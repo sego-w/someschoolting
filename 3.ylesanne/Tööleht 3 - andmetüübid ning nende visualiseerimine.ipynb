{
 "cells": [
  {
   "cell_type": "markdown",
   "metadata": {},
   "source": [
    "#  Tööleht 3- andmetüübid ning nende visualiseerimine\n"
   ]
  },
  {
   "cell_type": "markdown",
   "metadata": {},
   "source": [
    "Eelmise töölehe viimasest ülesandest nägime, et andmete visualiseerimine võib olla päris keeruline ja erineb vägagi andmetüübist. \n",
    "\n",
    "Et paremini mõista, kuidas andmeid visualiseerida, räägime kõigepealt erinevatest andmetüüpidest ja toome mõned konkreetsed näited.\n",
    "\n",
    "Kasutame definitsioonides ingliskeelseid termineid.\n",
    "Me võime jagada andmetüüpe nelja kategooriasse:\n",
    "\n",
    "\n",
    "\n",
    "\n",
    "| Andmetüüp |       Lubatud tehted       | Näide                            |\n",
    "|-----------|:------------------:|----------------------------------|\n",
    "| Nominal   | =, !=              | Nimed, sugu, id-kood, juuksevärv |\n",
    "| Ordinal   | =, !=, <, >        | Hinded, jäätise maitsed, lennu number          |\n",
    "| Interval  | =, !=, <, >, +, -  | Kuupäevad, temperatuur (Celsius) |\n",
    "| Ratio     | =,!=, <,>,+,-,*,\\  | Raha, vanus, pikkus              |\n",
    "\n",
    "Märkus: nominal ja ordinal andmeid nimetatakse **kategoorilisteks** andmeteks ja interval ja ratio andmeid **numbrilisteks** andmeteks.\n",
    "\n",
    "Kui neid tehteid googeldada, leiab selle kohta rohkelt informatsiooni. Üks youtube'i video seletab ka neid mõisteid: https://www.youtube.com/watch?v=hZxnzfnt5v8 \n"
   ]
  },
  {
   "cell_type": "code",
   "execution_count": 8,
   "metadata": {},
   "outputs": [
    {
     "name": "stdout",
     "output_type": "stream",
     "text": [
      "Gender       object\n",
      "Length      float64\n",
      "Diameter    float64\n",
      "Height      float64\n",
      "Weight      float64\n",
      "Rings         int64\n",
      "dtype: object\n"
     ]
    },
    {
     "data": {
      "text/html": [
       "<div>\n",
       "<style scoped>\n",
       "    .dataframe tbody tr th:only-of-type {\n",
       "        vertical-align: middle;\n",
       "    }\n",
       "\n",
       "    .dataframe tbody tr th {\n",
       "        vertical-align: top;\n",
       "    }\n",
       "\n",
       "    .dataframe thead th {\n",
       "        text-align: right;\n",
       "    }\n",
       "</style>\n",
       "<table border=\"1\" class=\"dataframe\">\n",
       "  <thead>\n",
       "    <tr style=\"text-align: right;\">\n",
       "      <th></th>\n",
       "      <th>Gender</th>\n",
       "      <th>Length</th>\n",
       "      <th>Diameter</th>\n",
       "      <th>Height</th>\n",
       "      <th>Weight</th>\n",
       "      <th>Rings</th>\n",
       "    </tr>\n",
       "  </thead>\n",
       "  <tbody>\n",
       "    <tr>\n",
       "      <th>0</th>\n",
       "      <td>F</td>\n",
       "      <td>0.505</td>\n",
       "      <td>0.385</td>\n",
       "      <td>0.135</td>\n",
       "      <td>0.6185</td>\n",
       "      <td>12</td>\n",
       "    </tr>\n",
       "    <tr>\n",
       "      <th>1</th>\n",
       "      <td>F</td>\n",
       "      <td>0.650</td>\n",
       "      <td>0.475</td>\n",
       "      <td>0.165</td>\n",
       "      <td>1.3875</td>\n",
       "      <td>9</td>\n",
       "    </tr>\n",
       "    <tr>\n",
       "      <th>2</th>\n",
       "      <td>I</td>\n",
       "      <td>0.520</td>\n",
       "      <td>0.380</td>\n",
       "      <td>0.135</td>\n",
       "      <td>0.5395</td>\n",
       "      <td>8</td>\n",
       "    </tr>\n",
       "    <tr>\n",
       "      <th>3</th>\n",
       "      <td>F</td>\n",
       "      <td>0.550</td>\n",
       "      <td>0.425</td>\n",
       "      <td>0.140</td>\n",
       "      <td>0.9520</td>\n",
       "      <td>7</td>\n",
       "    </tr>\n",
       "    <tr>\n",
       "      <th>4</th>\n",
       "      <td>M</td>\n",
       "      <td>0.640</td>\n",
       "      <td>0.525</td>\n",
       "      <td>0.180</td>\n",
       "      <td>1.3135</td>\n",
       "      <td>10</td>\n",
       "    </tr>\n",
       "    <tr>\n",
       "      <th>...</th>\n",
       "      <td>...</td>\n",
       "      <td>...</td>\n",
       "      <td>...</td>\n",
       "      <td>...</td>\n",
       "      <td>...</td>\n",
       "      <td>...</td>\n",
       "    </tr>\n",
       "    <tr>\n",
       "      <th>995</th>\n",
       "      <td>I</td>\n",
       "      <td>0.550</td>\n",
       "      <td>0.415</td>\n",
       "      <td>0.135</td>\n",
       "      <td>0.8095</td>\n",
       "      <td>12</td>\n",
       "    </tr>\n",
       "    <tr>\n",
       "      <th>996</th>\n",
       "      <td>I</td>\n",
       "      <td>0.455</td>\n",
       "      <td>0.435</td>\n",
       "      <td>0.110</td>\n",
       "      <td>0.4265</td>\n",
       "      <td>8</td>\n",
       "    </tr>\n",
       "    <tr>\n",
       "      <th>997</th>\n",
       "      <td>M</td>\n",
       "      <td>0.660</td>\n",
       "      <td>0.500</td>\n",
       "      <td>0.165</td>\n",
       "      <td>1.3195</td>\n",
       "      <td>9</td>\n",
       "    </tr>\n",
       "    <tr>\n",
       "      <th>998</th>\n",
       "      <td>I</td>\n",
       "      <td>0.525</td>\n",
       "      <td>0.400</td>\n",
       "      <td>0.130</td>\n",
       "      <td>0.6455</td>\n",
       "      <td>8</td>\n",
       "    </tr>\n",
       "    <tr>\n",
       "      <th>999</th>\n",
       "      <td>M</td>\n",
       "      <td>0.515</td>\n",
       "      <td>0.395</td>\n",
       "      <td>0.135</td>\n",
       "      <td>1.0070</td>\n",
       "      <td>8</td>\n",
       "    </tr>\n",
       "  </tbody>\n",
       "</table>\n",
       "<p>1000 rows × 6 columns</p>\n",
       "</div>"
      ],
      "text/plain": [
       "    Gender  Length  Diameter  Height  Weight  Rings\n",
       "0        F   0.505     0.385   0.135  0.6185     12\n",
       "1        F   0.650     0.475   0.165  1.3875      9\n",
       "2        I   0.520     0.380   0.135  0.5395      8\n",
       "3        F   0.550     0.425   0.140  0.9520      7\n",
       "4        M   0.640     0.525   0.180  1.3135     10\n",
       "..     ...     ...       ...     ...     ...    ...\n",
       "995      I   0.550     0.415   0.135  0.8095     12\n",
       "996      I   0.455     0.435   0.110  0.4265      8\n",
       "997      M   0.660     0.500   0.165  1.3195      9\n",
       "998      I   0.525     0.400   0.130  0.6455      8\n",
       "999      M   0.515     0.395   0.135  1.0070      8\n",
       "\n",
       "[1000 rows x 6 columns]"
      ]
     },
     "execution_count": 8,
     "metadata": {},
     "output_type": "execute_result"
    }
   ],
   "source": [
    "# Ülesanne: ava abalone dataset paketiga pandas (see, millega eelmine nädal töötasime) ning kirjuta alla, mis andmetüübid seal on. \n",
    "import pandas\n",
    "z = pandas.read_csv(\"/Users/gustavtamkivi/Documents/Code/someschoolting/3.ylesanne/abalone - abalone.csv\")\n",
    "print(z.dtypes)\n",
    "z"
   ]
  },
  {
   "attachments": {},
   "cell_type": "markdown",
   "metadata": {},
   "source": [
    "*Vastus* \n",
    "\n",
    "- Gender: Nominal / object\n",
    "- Length: Ratio / float64\n",
    "- Diameter: Ratio / float64\n",
    "- Height: Ratio / float64\n",
    "- Weight: Ratio / float64\n",
    "- Rings: Ratio / int64"
   ]
  },
  {
   "cell_type": "code",
   "execution_count": null,
   "metadata": {},
   "outputs": [],
   "source": []
  },
  {
   "cell_type": "code",
   "execution_count": null,
   "metadata": {},
   "outputs": [],
   "source": []
  },
  {
   "cell_type": "code",
   "execution_count": null,
   "metadata": {},
   "outputs": [],
   "source": []
  },
  {
   "cell_type": "markdown",
   "metadata": {},
   "source": [
    "Erinevate andmetüüpide visualiseerimisel on kasuks erinevad graafikute tüübid. Et valida õige graafik on vaja sul läbida järgmised saamud:\n",
    "\n",
    "1. Sõnasta uurimisküsimus (nt: \"Kuidas sõltub temperatuur aastaajast?\"\n",
    "2. Vali andmed (nt: Temperatuurid kuude lõikes)\n",
    "3. Vaata, mis andmed käivad x-teljelel ning mis y-teljele (mis sõltub millest? Kas kuud sõltuvad temperatuurist või temperatuur sõltub kuust?(x-teljel on kuude nimed ja y-teljel on temperatuur)\n",
    "4. Mis tüüpi andmetega on tegemist? (Temperatuur on interval ja kuupäev on ordinal)\n",
    "5. Vali andmetüübile vastav graafik (Nt antud juhul sobib tulpdiagramm)\n",
    "\n",
    "\n",
    "Allpool on toodud näited erinevatest andmetüüpidest ning mis graafikud sobivad. ***Siin koode muutma ei pea***\n"
   ]
  },
  {
   "cell_type": "code",
   "execution_count": 1,
   "metadata": {},
   "outputs": [
    {
     "data": {
      "image/png": "[encoded data removed]",
      "text/plain": [
       "<Figure size 432x288 with 1 Axes>"
      ]
     },
     "metadata": {
      "needs_background": "light"
     },
     "output_type": "display_data"
    }
   ],
   "source": [
    "# Näide 1 -  nii x ja y teljel on interval või ratio andmed. \n",
    "#Nt Kaal vs Kehapikkus või Teenitav palk vs kui palju kulutatakse raha väljas söömisele\n",
    "\n",
    "#Siis kasutatakse tavaliselt scatter-ploti (võib ka tavalist joongraafikut). \n",
    "\n",
    "import random\n",
    "import matplotlib.pyplot as plt\n",
    "#Hetkel genereerin suvalised andmed\n",
    "X = [random.randrange(50, 90, 1) for i in range(30)]\n",
    "Y = [random.randrange(150, 190, 1) for i in range(30)]\n",
    "\n",
    "#Loon graafiku\n",
    "plt.scatter(X,Y)\n",
    "plt.xlabel(\"Kaal\")\n",
    "plt.ylabel(\"Pikkus\")\n",
    "plt.show()"
   ]
  },
  {
   "cell_type": "code",
   "execution_count": 3,
   "metadata": {},
   "outputs": [
    {
     "data": {
      "image/png": "[encoded data removed]",
      "text/plain": [
       "<Figure size 432x288 with 1 Axes>"
      ]
     },
     "metadata": {
      "needs_background": "light"
     },
     "output_type": "display_data"
    }
   ],
   "source": [
    "#Märkus:  Vahepeal saame vaadata ka kolme andme suhet - \n",
    "#nt vaadata kahe numbrilise väärtuse sõltuvust naistel ja meestel \n",
    "#Selleks saame eristada väärtuseid värviga:\n",
    "X = [random.randrange(45, 95, 1) for i in range(30)]\n",
    "Y_naised = [random.randrange(150, 180, 1) for i in range(30)]\n",
    "Y_mehed =  [random.randrange(170, 200, 1) for i in range(30)]\n",
    "#Loon graafiku\n",
    "plt.scatter(X,Y_naised,label = \"naised\")\n",
    "plt.scatter(X,Y_mehed,label = \"mehed\")\n",
    "\n",
    "plt.xlabel(\"Kaal\")\n",
    "plt.ylabel(\"Pikkus\")\n",
    "plt.legend(loc = \"best\")\n",
    "plt.show()\n"
   ]
  },
  {
   "cell_type": "code",
   "execution_count": 4,
   "metadata": {},
   "outputs": [
    {
     "data": {
      "image/png": "[encoded data removed]",
      "text/plain": [
       "<Figure size 432x288 with 1 Axes>"
      ]
     },
     "metadata": {
      "needs_background": "light"
     },
     "output_type": "display_data"
    }
   ],
   "source": [
    "#Näide 2 - üks numbriline väärtus ja tahame analüüsida nende esinemist (nt kuidas jaotub inimeste IQ või pikkus)\n",
    "\n",
    "#Saame kasutada histogrammi: \n",
    "import numpy as np\n",
    "\n",
    "N_points = 100000\n",
    "n_bins = 20\n",
    "\n",
    "x = np.random.randn(N_points)\n",
    "y = .4 * x + np.random.randn(100000) + 5\n",
    "\n",
    "fig, axs = plt.subplots(1, 1, sharey=True, tight_layout=True)\n",
    "\n",
    "axs.hist(x, bins=n_bins)\n",
    "plt.show()"
   ]
  },
  {
   "cell_type": "code",
   "execution_count": 5,
   "metadata": {},
   "outputs": [
    {
     "data": {
      "image/png": "[encoded data removed]",
      "text/plain": [
       "<Figure size 432x288 with 2 Axes>"
      ]
     },
     "metadata": {
      "needs_background": "light"
     },
     "output_type": "display_data"
    }
   ],
   "source": [
    "# Näide 3 - kaks ordinal/nominal väärtust (nt vaadata iga klassi lõikes kuidas õpilased jaguvad suundadesse)\n",
    "\n",
    "#Selle jaoks kasutatakse nt heat-mapi \n",
    "import seaborn as sns \n",
    "#Seaborn on peale matplotlibi üks teine visualiseerimispakett \n",
    "#- tihti saab sellega palju ilusamaid graafikuid   \n",
    "\n",
    "#Siin laeme andmestiku seaborni paketist, flights on üks klassikaline andmestik, graafiku all võid seda tabelina näha\n",
    "flights = sns.load_dataset(\"flights\")\n",
    "\n",
    "#Antud näites soovime analüüsida, kuidas aasta ja kuu lõikes on muutunud lendajate arv\n",
    "flights = flights.pivot(\"month\", \"year\", \"passengers\")\n",
    "\n",
    "ax = sns.heatmap(flights)"
   ]
  },
  {
   "cell_type": "code",
   "execution_count": 6,
   "metadata": {},
   "outputs": [
    {
     "data": {
      "text/html": [
       "<div>\n",
       "<style scoped>\n",
       "    .dataframe tbody tr th:only-of-type {\n",
       "        vertical-align: middle;\n",
       "    }\n",
       "\n",
       "    .dataframe tbody tr th {\n",
       "        vertical-align: top;\n",
       "    }\n",
       "\n",
       "    .dataframe thead th {\n",
       "        text-align: right;\n",
       "    }\n",
       "</style>\n",
       "<table border=\"1\" class=\"dataframe\">\n",
       "  <thead>\n",
       "    <tr style=\"text-align: right;\">\n",
       "      <th>year</th>\n",
       "      <th>1949</th>\n",
       "      <th>1950</th>\n",
       "      <th>1951</th>\n",
       "      <th>1952</th>\n",
       "      <th>1953</th>\n",
       "      <th>1954</th>\n",
       "      <th>1955</th>\n",
       "      <th>1956</th>\n",
       "      <th>1957</th>\n",
       "      <th>1958</th>\n",
       "      <th>1959</th>\n",
       "      <th>1960</th>\n",
       "    </tr>\n",
       "    <tr>\n",
       "      <th>month</th>\n",
       "      <th></th>\n",
       "      <th></th>\n",
       "      <th></th>\n",
       "      <th></th>\n",
       "      <th></th>\n",
       "      <th></th>\n",
       "      <th></th>\n",
       "      <th></th>\n",
       "      <th></th>\n",
       "      <th></th>\n",
       "      <th></th>\n",
       "      <th></th>\n",
       "    </tr>\n",
       "  </thead>\n",
       "  <tbody>\n",
       "    <tr>\n",
       "      <th>Jan</th>\n",
       "      <td>112</td>\n",
       "      <td>115</td>\n",
       "      <td>145</td>\n",
       "      <td>171</td>\n",
       "      <td>196</td>\n",
       "      <td>204</td>\n",
       "      <td>242</td>\n",
       "      <td>284</td>\n",
       "      <td>315</td>\n",
       "      <td>340</td>\n",
       "      <td>360</td>\n",
       "      <td>417</td>\n",
       "    </tr>\n",
       "    <tr>\n",
       "      <th>Feb</th>\n",
       "      <td>118</td>\n",
       "      <td>126</td>\n",
       "      <td>150</td>\n",
       "      <td>180</td>\n",
       "      <td>196</td>\n",
       "      <td>188</td>\n",
       "      <td>233</td>\n",
       "      <td>277</td>\n",
       "      <td>301</td>\n",
       "      <td>318</td>\n",
       "      <td>342</td>\n",
       "      <td>391</td>\n",
       "    </tr>\n",
       "    <tr>\n",
       "      <th>Mar</th>\n",
       "      <td>132</td>\n",
       "      <td>141</td>\n",
       "      <td>178</td>\n",
       "      <td>193</td>\n",
       "      <td>236</td>\n",
       "      <td>235</td>\n",
       "      <td>267</td>\n",
       "      <td>317</td>\n",
       "      <td>356</td>\n",
       "      <td>362</td>\n",
       "      <td>406</td>\n",
       "      <td>419</td>\n",
       "    </tr>\n",
       "    <tr>\n",
       "      <th>Apr</th>\n",
       "      <td>129</td>\n",
       "      <td>135</td>\n",
       "      <td>163</td>\n",
       "      <td>181</td>\n",
       "      <td>235</td>\n",
       "      <td>227</td>\n",
       "      <td>269</td>\n",
       "      <td>313</td>\n",
       "      <td>348</td>\n",
       "      <td>348</td>\n",
       "      <td>396</td>\n",
       "      <td>461</td>\n",
       "    </tr>\n",
       "    <tr>\n",
       "      <th>May</th>\n",
       "      <td>121</td>\n",
       "      <td>125</td>\n",
       "      <td>172</td>\n",
       "      <td>183</td>\n",
       "      <td>229</td>\n",
       "      <td>234</td>\n",
       "      <td>270</td>\n",
       "      <td>318</td>\n",
       "      <td>355</td>\n",
       "      <td>363</td>\n",
       "      <td>420</td>\n",
       "      <td>472</td>\n",
       "    </tr>\n",
       "    <tr>\n",
       "      <th>Jun</th>\n",
       "      <td>135</td>\n",
       "      <td>149</td>\n",
       "      <td>178</td>\n",
       "      <td>218</td>\n",
       "      <td>243</td>\n",
       "      <td>264</td>\n",
       "      <td>315</td>\n",
       "      <td>374</td>\n",
       "      <td>422</td>\n",
       "      <td>435</td>\n",
       "      <td>472</td>\n",
       "      <td>535</td>\n",
       "    </tr>\n",
       "    <tr>\n",
       "      <th>Jul</th>\n",
       "      <td>148</td>\n",
       "      <td>170</td>\n",
       "      <td>199</td>\n",
       "      <td>230</td>\n",
       "      <td>264</td>\n",
       "      <td>302</td>\n",
       "      <td>364</td>\n",
       "      <td>413</td>\n",
       "      <td>465</td>\n",
       "      <td>491</td>\n",
       "      <td>548</td>\n",
       "      <td>622</td>\n",
       "    </tr>\n",
       "    <tr>\n",
       "      <th>Aug</th>\n",
       "      <td>148</td>\n",
       "      <td>170</td>\n",
       "      <td>199</td>\n",
       "      <td>242</td>\n",
       "      <td>272</td>\n",
       "      <td>293</td>\n",
       "      <td>347</td>\n",
       "      <td>405</td>\n",
       "      <td>467</td>\n",
       "      <td>505</td>\n",
       "      <td>559</td>\n",
       "      <td>606</td>\n",
       "    </tr>\n",
       "    <tr>\n",
       "      <th>Sep</th>\n",
       "      <td>136</td>\n",
       "      <td>158</td>\n",
       "      <td>184</td>\n",
       "      <td>209</td>\n",
       "      <td>237</td>\n",
       "      <td>259</td>\n",
       "      <td>312</td>\n",
       "      <td>355</td>\n",
       "      <td>404</td>\n",
       "      <td>404</td>\n",
       "      <td>463</td>\n",
       "      <td>508</td>\n",
       "    </tr>\n",
       "    <tr>\n",
       "      <th>Oct</th>\n",
       "      <td>119</td>\n",
       "      <td>133</td>\n",
       "      <td>162</td>\n",
       "      <td>191</td>\n",
       "      <td>211</td>\n",
       "      <td>229</td>\n",
       "      <td>274</td>\n",
       "      <td>306</td>\n",
       "      <td>347</td>\n",
       "      <td>359</td>\n",
       "      <td>407</td>\n",
       "      <td>461</td>\n",
       "    </tr>\n",
       "    <tr>\n",
       "      <th>Nov</th>\n",
       "      <td>104</td>\n",
       "      <td>114</td>\n",
       "      <td>146</td>\n",
       "      <td>172</td>\n",
       "      <td>180</td>\n",
       "      <td>203</td>\n",
       "      <td>237</td>\n",
       "      <td>271</td>\n",
       "      <td>305</td>\n",
       "      <td>310</td>\n",
       "      <td>362</td>\n",
       "      <td>390</td>\n",
       "    </tr>\n",
       "    <tr>\n",
       "      <th>Dec</th>\n",
       "      <td>118</td>\n",
       "      <td>140</td>\n",
       "      <td>166</td>\n",
       "      <td>194</td>\n",
       "      <td>201</td>\n",
       "      <td>229</td>\n",
       "      <td>278</td>\n",
       "      <td>306</td>\n",
       "      <td>336</td>\n",
       "      <td>337</td>\n",
       "      <td>405</td>\n",
       "      <td>432</td>\n",
       "    </tr>\n",
       "  </tbody>\n",
       "</table>\n",
       "</div>"
      ],
      "text/plain": [
       "year   1949  1950  1951  1952  1953  1954  1955  1956  1957  1958  1959  1960\n",
       "month                                                                        \n",
       "Jan     112   115   145   171   196   204   242   284   315   340   360   417\n",
       "Feb     118   126   150   180   196   188   233   277   301   318   342   391\n",
       "Mar     132   141   178   193   236   235   267   317   356   362   406   419\n",
       "Apr     129   135   163   181   235   227   269   313   348   348   396   461\n",
       "May     121   125   172   183   229   234   270   318   355   363   420   472\n",
       "Jun     135   149   178   218   243   264   315   374   422   435   472   535\n",
       "Jul     148   170   199   230   264   302   364   413   465   491   548   622\n",
       "Aug     148   170   199   242   272   293   347   405   467   505   559   606\n",
       "Sep     136   158   184   209   237   259   312   355   404   404   463   508\n",
       "Oct     119   133   162   191   211   229   274   306   347   359   407   461\n",
       "Nov     104   114   146   172   180   203   237   271   305   310   362   390\n",
       "Dec     118   140   166   194   201   229   278   306   336   337   405   432"
      ]
     },
     "execution_count": 6,
     "metadata": {},
     "output_type": "execute_result"
    }
   ],
   "source": [
    "flights"
   ]
  },
  {
   "cell_type": "code",
   "execution_count": 7,
   "metadata": {},
   "outputs": [
    {
     "data": {
      "image/png": "[encoded data removed]",
      "text/plain": [
       "<Figure size 648x648 with 1 Axes>"
      ]
     },
     "metadata": {
      "needs_background": "light"
     },
     "output_type": "display_data"
    }
   ],
   "source": [
    "#Kategooriline väärtus vs numbriline väärtus (nt õpilaste eksamitulemused aastate lõikes)\n",
    "\n",
    "#Seda nägime juba eelmisel töölehel, kus soovisime analüüsida ringide ja kaalude vahelist suhet:\n",
    "import pandas as pd\n",
    "andmed = pd.read_csv(\"abalone.csv\")\n",
    "\n",
    "#Võtan välja anomaaliad\n",
    "andmed = andmed[andmed[\"Rings\"]<=200]\n",
    "\n",
    "#Leian kõik ringide võimalikud väärtused\n",
    "ringid = andmed[\"Rings\"].unique()\n",
    "\n",
    "#sorteerin väärtuste listi\n",
    "ringid.sort()\n",
    "\n",
    "#Y-telje jaoks loon listi\n",
    "data_to_plot = []\n",
    "for r in ringid:\n",
    "    kaal = andmed[andmed[\"Rings\"]==r][\"Weight\"]\n",
    "    data_to_plot.append(kaal)\n",
    "    \n",
    "fig, axes = plt.subplots(nrows=1, ncols=1, figsize=(9, 9))\n",
    "axes.boxplot(data_to_plot,positions = ringid)\n",
    "plt.show()\n"
   ]
  },
  {
   "cell_type": "markdown",
   "metadata": {},
   "source": [
    "# NB\n",
    "Kindlasti ei ole need reeglid kivisse raiutud vaid pigem on tegemist heade tavade/soovitustega, mis annavad suunised,\n",
    "kus kohast alustada.\n",
    "\n",
    "\n",
    "Üks hea graafikuvalimise tabel: https://flowingdata.com/2009/01/15/flow-chart-shows-you-what-chart-to-use/\n",
    "\n",
    "Matplotlibi kodulehekülg: https://matplotlib.org/ (examples ja tutorials leht on suureks abiks)\n",
    "\n",
    "Seaborn kodulehekülg: https://seaborn.pydata.org/\n",
    "\n",
    "\n",
    "Järgmisena saabki natuke kätt harjutada erinevate andmetüüpide peal (ja kuidas graafikuid teha)\n"
   ]
  },
  {
   "cell_type": "markdown",
   "metadata": {},
   "source": [
    "# Ülesanne \n",
    "\n",
    "\n",
    "All on lisatud andmetabel \n",
    "*instacart* (https://tech.instacart.com/3-million-instacart-orders-open-sourced-d40d29ead6f2)\n",
    "ja *adult* \n",
    "\n",
    "Sinu ülesanne on uurida käesolevaid tabeleid ning teha viis graafikut \n",
    "(sh üks histogramm, üks boxplot/violinplot, üks scatterplot, üks heatmap, üks omal valikul)\n",
    "\n",
    "Kui sa näed andmestikus mingeid anomaaliaid, võid need välja valida. Ja nagu ikka - küsimuste korral kirjuta õpetajale :) \n"
   ]
  },
  {
   "cell_type": "code",
   "execution_count": 19,
   "metadata": {},
   "outputs": [
    {
     "data": {
      "text/plain": [
       "<matplotlib.collections.PathCollection at 0x12d2b0b50>"
      ]
     },
     "execution_count": 19,
     "metadata": {},
     "output_type": "execute_result"
    },
    {
     "data": {
      "image/png": "[encoded data removed]",
      "text/plain": [
       "<Figure size 640x480 with 1 Axes>"
      ]
     },
     "metadata": {},
     "output_type": "display_data"
    }
   ],
   "source": [
    "#setup\n",
    "import pandas as p\n",
    "import matplotlib.pyplot as mpl\n",
    "adult = p.read_csv(\"/Users/gustavtamkivi/Documents/Code/someschoolting/3.ylesanne/adult - adult.csv\")\n",
    "instacart = p.read_csv(\"/Users/gustavtamkivi/Documents/Code/someschoolting/3.ylesanne/instacart_100k - instacart_100k.csv\")\n",
    "\n",
    "\n",
    "#Graafik 1: Uurime, kas on USAs mingi seos vanuse ja rahulolekuga tookohaga\n",
    "mpl.scatter(adult.age, adult.jobsatisfaction) "
   ]
  },
  {
   "cell_type": "code",
   "execution_count": 28,
   "metadata": {},
   "outputs": [
    {
     "ename": "AttributeError",
     "evalue": "module 'pandas' has no attribute 'show'",
     "output_type": "error",
     "traceback": [
      "\u001b[0;31m---------------------------------------------------------------------------\u001b[0m",
      "\u001b[0;31mAttributeError\u001b[0m                            Traceback (most recent call last)",
      "Cell \u001b[0;32mIn[28], line 8\u001b[0m\n\u001b[1;32m      6\u001b[0m fig, axs \u001b[39m=\u001b[39m mpl\u001b[39m.\u001b[39msubplots(\u001b[39m1\u001b[39m, \u001b[39m1\u001b[39m, sharey\u001b[39m=\u001b[39m\u001b[39mTrue\u001b[39;00m, tight_layout\u001b[39m=\u001b[39m\u001b[39mTrue\u001b[39;00m)\n\u001b[1;32m      7\u001b[0m axs\u001b[39m.\u001b[39mhist(adult\u001b[39m.\u001b[39meducation, bins\u001b[39m=\u001b[39m\u001b[39m5\u001b[39m)\n\u001b[0;32m----> 8\u001b[0m p\u001b[39m.\u001b[39;49mshow()\n",
      "\u001b[0;31mAttributeError\u001b[0m: module 'pandas' has no attribute 'show'"
     ]
    },
    {
     "data": {
      "image/png": "[encoded data removed]",
      "text/plain": [
       "<Figure size 640x480 with 1 Axes>"
      ]
     },
     "metadata": {},
     "output_type": "display_data"
    }
   ],
   "source": [
    "#Graafik 2: Erinevate haridustasemete esinemine USA tooturul\n",
    "import pandas as p\n",
    "import matplotlib.pyplot as mpl\n",
    "adult = p.read_csv(\"/Users/gustavtamkivi/Documents/Code/someschoolting/3.ylesanne/adult - adult.csv\")\n",
    "\n",
    "fig, axs = mpl.subplots(1, 1, sharey=True, tight_layout=True)\n",
    "axs.hist(adult.education, bins=5)\n",
    "mpl.show()"
   ]
  }
 ],
 "metadata": {
  "kernelspec": {
   "display_name": "Python 3 (ipykernel)",
   "language": "python",
   "name": "python3"
  },
  "language_info": {
   "codemirror_mode": {
    "name": "ipython",
    "version": 3
   },
   "file_extension": ".py",
   "mimetype": "text/x-python",
   "name": "python",
   "nbconvert_exporter": "python",
   "pygments_lexer": "ipython3",
   "version": "3.11.4"
  }
 },
 "nbformat": 4,
 "nbformat_minor": 4
}
