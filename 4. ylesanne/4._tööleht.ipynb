{
 "cells": [
  {
   "cell_type": "markdown",
   "metadata": {},
   "source": [
    "# 4. tööleht (rühmitamine)\n",
    "\n",
    "Eelmistes tundides oleme tutvunud pandase paketiga ning samuti õppinud andmete visualiseerimist.\n",
    "\n",
    "Järgmisena tegeleme andmete rühmitamisega (*clustering*). \n",
    "\n",
    "Teooriaga tutvumiseks vaata: \n",
    "- https://towardsdatascience.com/the-5-clustering-algorithms-data-scientists-need-to-know-a36d136ef68\n",
    "- https://towardsdatascience.com/an-introduction-to-clustering-algorithms-in-python-123438574097\n",
    "\n",
    "\n",
    "Me kasutame clustering algoritme, kui meie eesmärk on olemasolevad andmed lisada väiksematesse gruppidesse sarnasuse alusel. Näiteks meil on inimesed täitnud psühholoogia testi ning me soovime neid jaotada gruppi selle alusel, kas nad on ekstraverdid või introverdid või meil on teada hoonete ehitusandmed ja me soovime teada, kui suur on hoonete ülalpidamiskulu. \n",
    "\n",
    "\n",
    "\n",
    "<img src=\"https://www.researchgate.net/publication/322336480/figure/fig5/AS:580886346375172@1515505505578/Unbiased-network-clustering-of-non-infectious-disease-complications-in-the-Partners.png\" width=\"900\" height=\"900\">\n",
    "Näide clusterdamisest: erinevate haiguste omavahelised seosed.\n",
    "\n",
    "\n",
    "\n",
    "## Meetodi kirjeldus\n",
    "Clusterdamise meetodi võib jagada ideeliselt kaheks etapiks:\n",
    "\n",
    "1) Kauguse defineerimine (mida tähendab, et kaks punkti on omavahel sarnased?)\n",
    "\n",
    "2) Clusterdamise meetodi valimine (kuidas objektid omavahel kokku sobituvad)"
   ]
  },
  {
   "cell_type": "markdown",
   "metadata": {},
   "source": [
    "## Kauguse defineerimine (natuke matemaatikat)\n",
    "\n",
    "Me defineerime kauguse järgmiselt: kahe punkti $A$ ja $B$ vaheline kaugus on $p(A,B)$, mis on mingi positiivne reaalarvuline väärtus. Kuigi kauguse võib arvutada erinevate valemitega, peab see järgima kolme põhiseadust.\n",
    "\n",
    "1) Kui kaugus on 0, siis on punktide koordinaadid samad. Kui punktide koordinaadid on samad, siis kaugus on 0:\n",
    "    \n",
    "$$p(A,B) = 0 \\iff\tA = B.$$\n",
    "    \n",
    "2) Kaugus punkti A ja B vahel on sama mis kaugus punkti B ja A vahel: \n",
    "\n",
    "$$p(A,B) = p(B,A).$$\n",
    "\n",
    "3) Kolmnurga võrratus: Kaugus punkti A ja B vahel on väiksem-võrdne kui A ja B ning B ja C kauguste summa:\n",
    "\n",
    "$$p(A,B)<= p(A,C)+p(C,B).$$\n",
    "\n",
    "\n",
    "\n",
    "### Tuttavad kaugused \n",
    "\n",
    "Kindlasti olete juba kaugustega enda elus kokku puutunud: kahemõõtmelises maailmas on Pythagorase valem üks kõige lihtsamaid kaugusi. Olgu meil kaks punkti $A(a_1,a_2)$ ja $B(b_1,b_2)$, siis nende vaheline kaugus on:\n",
    "$$p(A,B) = \\sqrt{(a_1-b_1)^2 + (a_2-b_2)^2}.$$\n",
    "*Huvilised saavad kontrollida, kas tegemist on tõesti kaugusega*\n",
    "\n",
    "Seda kaugust saab üldistada ka n-nõõtmelistele koordinaatidele **(eukleidiline kaugus)** Olgu meil kaks punkti $A(a_1,a_2,....,a_n)$ ja $B(b_1,b_2,...,b_n)$:\n",
    "\n",
    "$$p(A,B) = \\sqrt{(a_1-b_1)^2+...+(a_n-b_n)^2}.$$\n",
    "\n",
    "Teine tuntud kaugus on **Manhattani kaugus**, mis avaldub järgmiselt:\n",
    "$$p(A,B) = \\lvert a_1-b_1 \\rvert+...+\\lvert a_n-b_n \\rvert$$\n",
    "\n",
    "Manhattani kauguse visualisatsioon: \n",
    "<img src=\"https://upload.wikimedia.org/wikipedia/commons/thumb/0/08/Manhattan_distance.svg/1200px-Manhattan_distance.svg.png\" width=\"500\" height=\"500\">\n",
    "*(Roheline joon on eukleidiline kaugus, ülejäänud jooned on manhattani kaugused)*\n",
    "\n",
    "\n",
    "\n",
    "Kolmas kaugus, on **Korrelatsiooni kaugus**, mis arvutab kahe punkti vahelist korrelatsiooni ning võtab selle kauguseks (nt mida tugevam on korrelatsioon, seda lähemal on puntkid omavahel). \n"
   ]
  },
  {
   "cell_type": "markdown",
   "metadata": {},
   "source": [
    "## Ülesanne 1 \n",
    "\n",
    "Kauguste defineerimine kahemõõtmeliste andmete korral.\n",
    "\n",
    "Defineeri kaks kaugust: Manhattani kaugus ja Eukleidiline kaugus juhul kui meil on tegemist kahemõõtmeliste andmetega (olgu andmed antud listis). "
   ]
  },
  {
   "cell_type": "code",
   "execution_count": 5,
   "metadata": {},
   "outputs": [],
   "source": [
    "#punkt1 = [x1,y1]  punkt2 = [x2,y2]\n",
    "import math\n",
    "def eukleidiline_kaugus(punkt1,punkt2):\n",
    "    kaugus = math.sqrt((abs(int(punkt2[0])-int(punkt1[0]))**2) + (abs(int(punkt2[1])-int(punkt1[1]))**2))\n",
    "    return kaugus\n",
    "\n",
    "\n",
    "def manhattani_kaugus(punkt1,punkt2):\n",
    "    kaugus = abs(int(punkt1[0])-int(punkt2[0])) + abs(int(punkt1[1])-int(punkt2[1]))\n",
    "    return kaugus\n",
    "\n"
   ]
  },
  {
   "cell_type": "code",
   "execution_count": 6,
   "metadata": {},
   "outputs": [
    {
     "name": "stdout",
     "output_type": "stream",
     "text": [
      "Said õige eukleidilise kauguse juhul kui A = B.\n",
      "Said õige Manhattani kauguse juhul kui A = B.\n",
      "Said õige eukleidilise kauguse juhul kui A= (1,1) ja B= (4,5).\n",
      "Said õige Manhattani kauguse juhul kui A= (1,1) ja B= (4,5).\n"
     ]
    }
   ],
   "source": [
    "### Testimine - jooksuta antud kood ning vaata, kas saad õiged tulemused\n",
    "A = [1,1]\n",
    "B = [1,1]\n",
    "null_punkt = eukleidiline_kaugus(A,B)\n",
    "if null_punkt == 0:\n",
    "    print(\"Said õige eukleidilise kauguse juhul kui A = B.\")\n",
    "else:\n",
    "    print(\"Said vale eukleidilise kauguse juhul kui A = B\")\n",
    "    \n",
    "null_punkt = manhattani_kaugus(A,B)\n",
    "if null_punkt == 0:\n",
    "    print(\"Said õige Manhattani kauguse juhul kui A = B.\")\n",
    "else:\n",
    "    print(\"Said vale Manhattani kauguse juhul kui A = B\")\n",
    "    \n",
    "A = [1,1]\n",
    "B = [4,5]\n",
    "\n",
    "punkt = eukleidiline_kaugus(A,B)\n",
    "if punkt == 5:\n",
    "    print(\"Said õige eukleidilise kauguse juhul kui A= (1,1) ja B= (4,5).\")\n",
    "else:\n",
    "    print(\"Said vale eukleidilise kauguse juhul kui A= (1,1) ja B= (4,5) \")\n",
    "\n",
    "A = [1,1]\n",
    "B = [4,5]\n",
    "\n",
    "punkt = manhattani_kaugus(A,B)\n",
    "if punkt == 7:\n",
    "    print(\"Said õige Manhattani kauguse juhul kui A= (1,1) ja B= (4,5).\")\n",
    "else:\n",
    "    print(\"Said vale Manhattani kauguse juhul kui A= (1,1) ja B= (4,5) \",punkt)\n",
    "    "
   ]
  },
  {
   "cell_type": "markdown",
   "metadata": {},
   "source": [
    "## Ülesanne 2\n",
    "\n",
    "Kauguste defineerimine n-mõõtmeliste andmete korral.\n",
    "\n",
    "Defineeri kaks kaugust: Manhattani kaugus ja Eukleidiline kaugus juhul kui meil on tegemist n-mõõtmeliste andmetega (olgu andmed antud listidena). "
   ]
  },
  {
   "cell_type": "code",
   "execution_count": 8,
   "metadata": {},
   "outputs": [
    {
     "name": "stdout",
     "output_type": "stream",
     "text": [
      "3.605551275463989\n",
      "5\n"
     ]
    }
   ],
   "source": [
    "#punkt1 = [a1,a2,a3,...] (peab töötama suvalise listi pikkuse korral)\n",
    "def eukleidiline_kaugus(punkt1,punkt2):\n",
    "    kaugus=0\n",
    "    for i in range(len(punkt1)):\n",
    "        kaugus += (punkt1[i]-punkt2[i])**2\n",
    "        \n",
    "    kaugus = kaugus**0.5\n",
    "    return kaugus\n",
    "\n",
    "\n",
    "def manhattani_kaugus(punkt1,punkt2):\n",
    "    kaugus = 0 \n",
    "    for i in range(len(punkt1)):\n",
    "        kaugus += abs((punkt1[i]-punkt2[i]))\n",
    "    return kaugus\n",
    "A = [1,2,3]\n",
    "B = [4,2,1]\n",
    "\n",
    "print(eukleidiline_kaugus(A,B))\n",
    "print(manhattani_kaugus(A,B))"
   ]
  },
  {
   "cell_type": "markdown",
   "metadata": {},
   "source": [
    "## Clustering\n",
    "\n",
    "Olles teinud otsuse kuidas me arvutame kaugusi punktide vahel saame viia läbi clusterdamise algoritme. Siin tunnis käsitleme neist järgmisi meetmeid:\n",
    "\n",
    "\n",
    "### Single-linkage clustering (https://en.wikipedia.org/wiki/Single-linkage_clustering)\n",
    "1) Arvutame kõikide punktide vahelist kauguse\n",
    "\n",
    "2) Leiame kaks punkti, mille vaheline kaugus on väikseim ja moodustame neist ühe grupi (olgu need punktid A ja B)\n",
    "\n",
    "3) Ühendame järgmised punktid (aga punktid A ja B on ühes clustris, seega punkti C kaugus clustrist on min(p(A,C),p(B,C))\n",
    "\n",
    "Video: https://www.youtube.com/watch?v=HfikjFVM3dg\n",
    "\n",
    "\n",
    "### Complete-linkage clustering\n",
    "\n",
    "Sama idee, mis Single-linkage clusteringul, aga seekord me vaatame maksimaalset kaugust, miite minimaalset kaugust.\n",
    "\n",
    "### K-means clustering (https://en.wikipedia.org/wiki/K-means_clustering)\n",
    "\n",
    "\n",
    "\n",
    "Loe rohkem: https://towardsdatascience.com/machine-learning-algorithms-part-9-k-means-example-in-python-f2ad05ed5203\n",
    "\n",
    "Kõigepealt defineerid naturaalarvu $k$ (nt $k=3$)\n",
    "\n",
    "1) Määra suvaliselt $k$ uut punkti -> need on clustrite keskmised\n",
    "\n",
    "2) Arvuta kaugused andmepuntkide ja clustri keskmiste vahel ning määra selle järgi andmed clustritesse (kõige väiksema kaugusega keskmisega võidab)\n",
    "\n",
    "3) Arvuta uued clustrikeskmed (eukleidilise kaugusega)\n",
    "\n",
    "Korda samme 2-3 nii kaua kuni enam ükski andmepuntk ei muuda enda clustrit.\n",
    "\n",
    "Video\n",
    "https://www.youtube.com/watch?v=4b5d3muPQmA\n",
    "\n",
    "\n"
   ]
  },
  {
   "cell_type": "markdown",
   "metadata": {},
   "source": [
    "## Ülesanne 3 \n",
    "Olgu meil antud tabel (vt järgmist blokki) , vii käsitsi (võid ka koodi kirjutada) single-linkage clustering kasutades eukleidilist kaugust ning nii kaua kuni alles on **kolm** gruppi. Kirjuta välja sammude haaval (mis punktid esimesena kokku paned, millised teisena jne).\n"
   ]
  },
  {
   "cell_type": "code",
   "execution_count": 16,
   "metadata": {},
   "outputs": [
    {
     "ename": "TypeError",
     "evalue": "'float' object is not iterable",
     "output_type": "error",
     "traceback": [
      "\u001b[0;31m---------------------------------------------------------------------------\u001b[0m",
      "\u001b[0;31mTypeError\u001b[0m                                 Traceback (most recent call last)",
      "Cell \u001b[0;32mIn[16], line 11\u001b[0m\n\u001b[1;32m      9\u001b[0m     l \u001b[39m=\u001b[39m []\n\u001b[1;32m     10\u001b[0m     \u001b[39mfor\u001b[39;00m x \u001b[39min\u001b[39;00m \u001b[39mrange\u001b[39m(\u001b[39mlen\u001b[39m(andmed)):\n\u001b[0;32m---> 11\u001b[0m         l \u001b[39m+\u001b[39;49m\u001b[39m=\u001b[39;49m math\u001b[39m.\u001b[39;49msqrt(andmed[\u001b[39m'\u001b[39;49m\u001b[39mx\u001b[39;49m\u001b[39m'\u001b[39;49m][x]\u001b[39m*\u001b[39;49m\u001b[39m*\u001b[39;49m\u001b[39m2\u001b[39;49m \u001b[39m+\u001b[39;49m andmed[\u001b[39m'\u001b[39;49m\u001b[39my\u001b[39;49m\u001b[39m'\u001b[39;49m][x])\n\u001b[1;32m     12\u001b[0m         l\u001b[39m.\u001b[39msort()\n\u001b[1;32m     13\u001b[0m l \u001b[39m=\u001b[39m l[\u001b[39m0\u001b[39m:\u001b[39m2\u001b[39m]\n",
      "\u001b[0;31mTypeError\u001b[0m: 'float' object is not iterable"
     ]
    }
   ],
   "source": [
    "import pandas as pd\n",
    "andmed = pd.DataFrame(\n",
    "    {'ID':['P1','P2','P3','P4','P5','P6','P7','P8','P9'],\n",
    "    'x':[0,1,4,2,0,1,3,7,6],\n",
    "    'y':[1,1,0,3,5,6,6,4,8]})\n",
    "\n",
    "while len(andmed) > 3:\n",
    "    for i in range(len(andmed)):\n",
    "        l = []\n",
    "        for x in range(len(andmed)):\n",
    "            l += math.sqrt(andmed['x'][x]**2 + andmed['y'][x])\n",
    "            l.sort()\n",
    "    l = l[0:2]\n",
    "    print(l)\n"
   ]
  },
  {
   "cell_type": "code",
   "execution_count": null,
   "metadata": {},
   "outputs": [],
   "source": [
    "# Vastus:\n"
   ]
  },
  {
   "cell_type": "markdown",
   "metadata": {},
   "source": [
    "## Pythoni paketid clusterdamiseks\n",
    "\n",
    "Pythonil on tegelikult kõik vajalik olemas ja ei pea ise neid funktsioone kirjutama (kui just ei taha defineerida oma kaugust või mingit erilist clusterdamismeetodit). Allpool on olemas graafikud hierarhilise clusterdamise ja k-means clusterdamise korral.\n"
   ]
  },
  {
   "cell_type": "code",
   "execution_count": null,
   "metadata": {},
   "outputs": [],
   "source": [
    "## Hierarchical clustering\n",
    "\n",
    "from scipy.cluster import hierarchy\n",
    "import matplotlib.pyplot as plt\n",
    "import pandas as pd\n",
    "plt.rcParams['figure.figsize'] = [15, 8]\n",
    "\n",
    "andmed = pd.DataFrame(\n",
    "    {'ID':['P1','P2','P3','P4','P5','P6','P7','P8','P9'],\n",
    "    'x':[0,1,4,2,0,1,3,7,6],\n",
    "    'y':[1,1,0,3,5,6,6,4,8],\n",
    "    'z':[2,4,4,1,9,2,4,3,7]})\n",
    "    \n",
    "    \n",
    "    \n",
    "single = hierarchy.linkage(andmed[['x','y','z']], 'single')\n",
    "plt.subplot(1,2,1)\n",
    "plt.title('Single linkage')\n",
    "single_dm = hierarchy.dendrogram(single, labels=andmed.ID.tolist(), color_threshold=0)\n",
    "\n",
    "complete = hierarchy.linkage(andmed[['x','y','z']], 'complete')\n",
    "plt.subplot(1,2,2)\n",
    "plt.title('Complete linkage')\n",
    "complete_dm = hierarchy.dendrogram(complete, labels=andmed.ID.tolist(), color_threshold=0)\n",
    "\n",
    "plt.show()"
   ]
  },
  {
   "cell_type": "code",
   "execution_count": null,
   "metadata": {},
   "outputs": [],
   "source": [
    "from sklearn.cluster import KMeans\n",
    "from sklearn.datasets import make_blobs\n",
    "\n",
    "import numpy as np\n",
    "X, y = make_blobs(n_samples=300, centers=4, cluster_std=0.60, random_state=0)\n",
    "\n",
    "kmeans = KMeans(n_clusters=3,max_iter=300, n_init=10, random_state=0)\n",
    "pred_y = kmeans.fit_predict(X)\n",
    "plt.scatter(X[:,0], X[:,1])\n",
    "plt.scatter(kmeans.cluster_centers_[:, 0], kmeans.cluster_centers_[:, 1], s=300, c='red')\n",
    "plt.show()"
   ]
  }
 ],
 "metadata": {
  "kernelspec": {
   "display_name": "Python 3 (ipykernel)",
   "language": "python",
   "name": "python3"
  },
  "language_info": {
   "codemirror_mode": {
    "name": "ipython",
    "version": 3
   },
   "file_extension": ".py",
   "mimetype": "text/x-python",
   "name": "python",
   "nbconvert_exporter": "python",
   "pygments_lexer": "ipython3",
   "version": "3.11.4"
  }
 },
 "nbformat": 4,
 "nbformat_minor": 4
}
