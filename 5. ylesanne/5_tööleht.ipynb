{
 "cells": [
  {
   "cell_type": "markdown",
   "metadata": {},
   "source": [
    "## Clustering 2\n",
    "\n",
    "\n",
    "Sellel töölehel jätkame clustering algoritmidega ja viime läbi clusterdamise andmetega.\n",
    "\n",
    "K-Means simulatsioon: https://www.naftaliharris.com/blog/visualizing-k-means-clustering/\n"
   ]
  },
  {
   "cell_type": "code",
   "execution_count": 2,
   "metadata": {},
   "outputs": [
    {
     "ename": "ModuleNotFoundError",
     "evalue": "No module named 'sklearn'",
     "output_type": "error",
     "traceback": [
      "\u001b[0;31m---------------------------------------------------------------------------\u001b[0m",
      "\u001b[0;31mModuleNotFoundError\u001b[0m                       Traceback (most recent call last)",
      "Cell \u001b[0;32mIn[2], line 4\u001b[0m\n\u001b[1;32m      2\u001b[0m \u001b[39mimport\u001b[39;00m \u001b[39mpandas\u001b[39;00m \u001b[39mas\u001b[39;00m \u001b[39mpd\u001b[39;00m \n\u001b[1;32m      3\u001b[0m \u001b[39mimport\u001b[39;00m \u001b[39mnumpy\u001b[39;00m \u001b[39mas\u001b[39;00m \u001b[39mnp\u001b[39;00m\n\u001b[0;32m----> 4\u001b[0m \u001b[39mfrom\u001b[39;00m \u001b[39msklearn\u001b[39;00m\u001b[39m.\u001b[39;00m\u001b[39mcluster\u001b[39;00m \u001b[39mimport\u001b[39;00m KMeans\n\u001b[1;32m      5\u001b[0m \u001b[39mfrom\u001b[39;00m \u001b[39msklearn\u001b[39;00m\u001b[39m.\u001b[39;00m\u001b[39mdatasets\u001b[39;00m \u001b[39mimport\u001b[39;00m load_iris\n\u001b[1;32m      7\u001b[0m iris \u001b[39m=\u001b[39m load_iris()\n",
      "\u001b[0;31mModuleNotFoundError\u001b[0m: No module named 'sklearn'"
     ]
    }
   ],
   "source": [
    "#Laeme sisse andmed irise datasetist\n",
    "import pandas as pd \n",
    "import numpy as np\n",
    "from sklearn.cluster import KMeans\n",
    "from sklearn.datasets import load_iris\n",
    "\n",
    "iris = load_iris()\n",
    "andmed= pd.DataFrame(data= np.c_[iris['data'], iris['target']],\n",
    "                 columns= iris['feature_names'] + ['target'])\n",
    "\n",
    "andmed['species'] = pd.Categorical.from_codes(iris.target, iris.target_names)\n",
    "andmed"
   ]
  },
  {
   "cell_type": "markdown",
   "metadata": {},
   "source": [
    "Meie lõppeesmärk on vaadata, et kas me saame andmete sepal_length, sepal_width, petal_length ja petal_with abil arvata, et kas tegemist on setosa (ehk target = 0), versicolor (ehk target = 1) või virginicaga (target = 2)."
   ]
  },
  {
   "cell_type": "markdown",
   "metadata": {},
   "source": [
    "## Ülesanne 1\n",
    "\n",
    "All on koostatud andmestik df, kus on kolm setosa iirist, kolm virginica iirist ning kolm versicolor iirist. \n",
    "\n",
    "Arvuta välja kõikide punktide vahelised kaugused kasutades eukleidilist kaugust (vt eelmist töölehte), võid andmed\n",
    "esitada nt listina või prindi lihtsalt välja. Hetkel jätame kõrvale petal_lengthi ja petal_widthi (ehk vaatame ainult sepal_lengthi ja sepal_widthi).\n",
    "\n",
    "Abiliseks on all toodud koodinäide, kuidas for tsükli abil info kätte saada."
   ]
  },
  {
   "cell_type": "code",
   "execution_count": 3,
   "metadata": {},
   "outputs": [
    {
     "ename": "NameError",
     "evalue": "name 'andmed' is not defined",
     "output_type": "error",
     "traceback": [
      "\u001b[0;31m---------------------------------------------------------------------------\u001b[0m",
      "\u001b[0;31mNameError\u001b[0m                                 Traceback (most recent call last)",
      "Cell \u001b[0;32mIn[3], line 2\u001b[0m\n\u001b[1;32m      1\u001b[0m ids \u001b[39m=\u001b[39m [\u001b[39m0\u001b[39m,\u001b[39m1\u001b[39m,\u001b[39m2\u001b[39m,\u001b[39m50\u001b[39m,\u001b[39m51\u001b[39m,\u001b[39m52\u001b[39m,\u001b[39m131\u001b[39m,\u001b[39m135\u001b[39m,\u001b[39m117\u001b[39m]\n\u001b[0;32m----> 2\u001b[0m df \u001b[39m=\u001b[39m andmed[andmed\u001b[39m.\u001b[39mindex\u001b[39m.\u001b[39misin(ids)]\n\u001b[1;32m      3\u001b[0m \u001b[39mfor\u001b[39;00m index1, row1 \u001b[39min\u001b[39;00m df\u001b[39m.\u001b[39miterrows():\n\u001b[1;32m      4\u001b[0m     p1 \u001b[39m=\u001b[39m \u001b[39mlist\u001b[39m(row1[[\u001b[39m\"\u001b[39m\u001b[39msepal length (cm)\u001b[39m\u001b[39m\"\u001b[39m,\u001b[39m\"\u001b[39m\u001b[39msepal width (cm)\u001b[39m\u001b[39m\"\u001b[39m]])\n",
      "\u001b[0;31mNameError\u001b[0m: name 'andmed' is not defined"
     ]
    }
   ],
   "source": [
    "\n",
    "ids = [0,1,2,50,51,52,131,135,117]\n",
    "df = andmed[andmed.index.isin(ids)]\n",
    "for index1, row1 in df.iterrows():\n",
    "    p1 = list(row1[[\"sepal length (cm)\",\"sepal width (cm)\"]])\n",
    "    print(p1)\n",
    "\n",
    "\n",
    "#KUSTUTADA\n",
    "import numpy as np\n",
    "for index1, row1 in df.iterrows():\n",
    "    for index2, row2 in df.iterrows():\n",
    "        p1 = np.array(row1[[\"sepal length (cm)\",\"sepal width (cm)\"]])\n",
    "        p2 = np.array(row2[[\"sepal length (cm)\",\"sepal width (cm)\"]])\n",
    "        kaugus = sum((p1-p2)**2)**0.5\n",
    "        print(p1,p2,kaugus)"
   ]
  },
  {
   "cell_type": "markdown",
   "metadata": {},
   "source": [
    "## Ülesanne 2\n",
    "\n",
    "Koosta graafik, kus x-teljel on sepal length (cm) ja y-teljel sepal width (cm) ning värvina on eristatud iirise tüüp.\n",
    "\n",
    "Lisa graafikule pealkiri ning telgede nimed"
   ]
  },
  {
   "cell_type": "code",
   "execution_count": 19,
   "metadata": {},
   "outputs": [
    {
     "data": {
      "text/plain": [
       "<matplotlib.collections.PathCollection at 0x22b43c64640>"
      ]
     },
     "execution_count": 19,
     "metadata": {},
     "output_type": "execute_result"
    },
    {
     "data": {
      "image/png": "[encoded data removed]",
      "text/plain": [
       "<Figure size 432x288 with 1 Axes>"
      ]
     },
     "metadata": {
      "needs_background": "light"
     },
     "output_type": "display_data"
    }
   ],
   "source": [
    "import matplotlib.pyplot as plt\n",
    "X = df[\"sepal length (cm)\"]\n",
    "Y = df[\"sepal width (cm)\"]\n",
    "C = df[\"target\"]\n",
    "\n",
    "#kustutada\n",
    "plt.scatter(X,Y,c=C)"
   ]
  },
  {
   "cell_type": "markdown",
   "metadata": {},
   "source": [
    "## Ülesanne 3 \n",
    "\n",
    "Kasuta sama andmestikku, proovime ennustada sepal length, sepal widthi järgi iirise liiki.\n",
    "\n",
    "1) Vii läbi k-means clustering juhul kui k = 1, 2, 3, 4, ..7 (kasuta eelmise töölehe lõpus olevat koodi\n",
    "\n",
    "2) Tee iga tulemuse kohta graafik (nagu ülesandes 2), kus värv näitab ennustatud clustrite värvi (ehk kui k = 2, siis kahe värviga, kui k= 5, siis viie värviga jne). \n",
    "\n",
    "3) Analüüsi, milline oleks parim k-de arv.\n",
    "\n"
   ]
  },
  {
   "cell_type": "code",
   "execution_count": 52,
   "metadata": {},
   "outputs": [
    {
     "name": "stdout",
     "output_type": "stream",
     "text": [
      "[0 0 0 0 0 0 0 0 0 0 0 0 0 0 0 0 0 0 0 0 0 0 0 0 0 0 0 0 0 0 0 0 0 0 0 0 0\n",
      " 0 0 0 0 0 0 0 0 0 0 0 0 0 1 1 1 2 1 2 1 2 1 2 2 2 2 2 2 1 2 2 2 2 2 2 2 2\n",
      " 1 1 1 1 2 2 2 2 2 2 2 2 1 2 2 2 2 2 2 2 2 2 2 2 2 2 1 2 1 1 1 1 2 1 1 1 1\n",
      " 1 1 2 2 1 1 1 1 2 1 2 1 2 1 1 2 2 1 1 1 1 1 2 2 1 1 1 2 1 1 1 2 1 1 1 2 1\n",
      " 1 2]\n",
      "[0.0, 0.0, 0.0, 0.0, 0.0, 0.0, 0.0, 0.0, 0.0, 0.0, 0.0, 0.0, 0.0, 0.0, 0.0, 0.0, 0.0, 0.0, 0.0, 0.0, 0.0, 0.0, 0.0, 0.0, 0.0, 0.0, 0.0, 0.0, 0.0, 0.0, 0.0, 0.0, 0.0, 0.0, 0.0, 0.0, 0.0, 0.0, 0.0, 0.0, 0.0, 0.0, 0.0, 0.0, 0.0, 0.0, 0.0, 0.0, 0.0, 0.0, 1.0, 1.0, 1.0, 1.0, 1.0, 1.0, 1.0, 1.0, 1.0, 1.0, 1.0, 1.0, 1.0, 1.0, 1.0, 1.0, 1.0, 1.0, 1.0, 1.0, 1.0, 1.0, 1.0, 1.0, 1.0, 1.0, 1.0, 1.0, 1.0, 1.0, 1.0, 1.0, 1.0, 1.0, 1.0, 1.0, 1.0, 1.0, 1.0, 1.0, 1.0, 1.0, 1.0, 1.0, 1.0, 1.0, 1.0, 1.0, 1.0, 1.0, 2.0, 2.0, 2.0, 2.0, 2.0, 2.0, 2.0, 2.0, 2.0, 2.0, 2.0, 2.0, 2.0, 2.0, 2.0, 2.0, 2.0, 2.0, 2.0, 2.0, 2.0, 2.0, 2.0, 2.0, 2.0, 2.0, 2.0, 2.0, 2.0, 2.0, 2.0, 2.0, 2.0, 2.0, 2.0, 2.0, 2.0, 2.0, 2.0, 2.0, 2.0, 2.0, 2.0, 2.0, 2.0, 2.0, 2.0, 2.0, 2.0, 2.0]\n"
     ]
    },
    {
     "data": {
      "text/plain": [
       "(None, None)"
      ]
     },
     "execution_count": 52,
     "metadata": {},
     "output_type": "execute_result"
    }
   ],
   "source": [
    "\n",
    "\n",
    "iris = load_iris()\n",
    "andmed= pd.DataFrame(data= np.c_[iris['data'], iris['target']],\n",
    "                 columns= iris['feature_names'] + ['target'])\n",
    "\n",
    "andmed['species'] = pd.Categorical.from_codes(iris.target, iris.target_names)\n",
    "andmed\n",
    "\n",
    "#Kustutada\n",
    "from sklearn.cluster import KMeans\n",
    "from sklearn.datasets import make_blobs\n",
    "\n",
    "X = andmed[['sepal length (cm)', 'sepal width (cm)']]\n",
    "kmeans = KMeans(n_clusters=3,max_iter=300, n_init=10, random_state=0)\n",
    "kmeans = KMeans(n_clusters=3)\n",
    "kmeans.fit(X)\n",
    "\n",
    "print(kmeans.labels_), print(list(andmed[\"target\"]))"
   ]
  }
 ],
 "metadata": {
  "kernelspec": {
   "display_name": "Python 3 (ipykernel)",
   "language": "python",
   "name": "python3"
  },
  "language_info": {
   "codemirror_mode": {
    "name": "ipython",
    "version": 3
   },
   "file_extension": ".py",
   "mimetype": "text/x-python",
   "name": "python",
   "nbconvert_exporter": "python",
   "pygments_lexer": "ipython3",
   "version": "3.11.4"
  }
 },
 "nbformat": 4,
 "nbformat_minor": 4
}
