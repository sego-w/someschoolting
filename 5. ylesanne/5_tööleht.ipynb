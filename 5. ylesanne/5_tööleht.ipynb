{
 "cells": [
  {
   "cell_type": "markdown",
   "metadata": {},
   "source": [
    "## Clustering 2\n",
    "\n",
    "\n",
    "Sellel töölehel jätkame clustering algoritmidega ja viime läbi clusterdamise andmetega.\n",
    "\n",
    "K-Means simulatsioon: https://www.naftaliharris.com/blog/visualizing-k-means-clustering/\n"
   ]
  },
  {
   "cell_type": "code",
   "execution_count": 3,
   "metadata": {},
   "outputs": [
    {
     "name": "stdout",
     "output_type": "stream",
     "text": [
      "['/Users/gustavtamkivi/Documents/Code/someschoolting/5. ylesanne', '/Library/Frameworks/Python.framework/Versions/3.11/lib/python311.zip', '/Library/Frameworks/Python.framework/Versions/3.11/lib/python3.11', '/Library/Frameworks/Python.framework/Versions/3.11/lib/python3.11/lib-dynload', '', '/Users/gustavtamkivi/Library/Python/3.11/lib/python/site-packages', '/Library/Frameworks/Python.framework/Versions/3.11/lib/python3.11/site-packages']\n"
     ]
    }
   ],
   "source": [
    "import sys\n",
    "print(sys.path)"
   ]
  },
  {
   "cell_type": "code",
   "execution_count": 5,
   "metadata": {},
   "outputs": [
    {
     "data": {
      "text/html": [
       "<div>\n",
       "<style scoped>\n",
       "    .dataframe tbody tr th:only-of-type {\n",
       "        vertical-align: middle;\n",
       "    }\n",
       "\n",
       "    .dataframe tbody tr th {\n",
       "        vertical-align: top;\n",
       "    }\n",
       "\n",
       "    .dataframe thead th {\n",
       "        text-align: right;\n",
       "    }\n",
       "</style>\n",
       "<table border=\"1\" class=\"dataframe\">\n",
       "  <thead>\n",
       "    <tr style=\"text-align: right;\">\n",
       "      <th></th>\n",
       "      <th>sepal length (cm)</th>\n",
       "      <th>sepal width (cm)</th>\n",
       "      <th>petal length (cm)</th>\n",
       "      <th>petal width (cm)</th>\n",
       "      <th>target</th>\n",
       "      <th>species</th>\n",
       "    </tr>\n",
       "  </thead>\n",
       "  <tbody>\n",
       "    <tr>\n",
       "      <th>0</th>\n",
       "      <td>5.1</td>\n",
       "      <td>3.5</td>\n",
       "      <td>1.4</td>\n",
       "      <td>0.2</td>\n",
       "      <td>0.0</td>\n",
       "      <td>setosa</td>\n",
       "    </tr>\n",
       "    <tr>\n",
       "      <th>1</th>\n",
       "      <td>4.9</td>\n",
       "      <td>3.0</td>\n",
       "      <td>1.4</td>\n",
       "      <td>0.2</td>\n",
       "      <td>0.0</td>\n",
       "      <td>setosa</td>\n",
       "    </tr>\n",
       "    <tr>\n",
       "      <th>2</th>\n",
       "      <td>4.7</td>\n",
       "      <td>3.2</td>\n",
       "      <td>1.3</td>\n",
       "      <td>0.2</td>\n",
       "      <td>0.0</td>\n",
       "      <td>setosa</td>\n",
       "    </tr>\n",
       "    <tr>\n",
       "      <th>3</th>\n",
       "      <td>4.6</td>\n",
       "      <td>3.1</td>\n",
       "      <td>1.5</td>\n",
       "      <td>0.2</td>\n",
       "      <td>0.0</td>\n",
       "      <td>setosa</td>\n",
       "    </tr>\n",
       "    <tr>\n",
       "      <th>4</th>\n",
       "      <td>5.0</td>\n",
       "      <td>3.6</td>\n",
       "      <td>1.4</td>\n",
       "      <td>0.2</td>\n",
       "      <td>0.0</td>\n",
       "      <td>setosa</td>\n",
       "    </tr>\n",
       "    <tr>\n",
       "      <th>...</th>\n",
       "      <td>...</td>\n",
       "      <td>...</td>\n",
       "      <td>...</td>\n",
       "      <td>...</td>\n",
       "      <td>...</td>\n",
       "      <td>...</td>\n",
       "    </tr>\n",
       "    <tr>\n",
       "      <th>145</th>\n",
       "      <td>6.7</td>\n",
       "      <td>3.0</td>\n",
       "      <td>5.2</td>\n",
       "      <td>2.3</td>\n",
       "      <td>2.0</td>\n",
       "      <td>virginica</td>\n",
       "    </tr>\n",
       "    <tr>\n",
       "      <th>146</th>\n",
       "      <td>6.3</td>\n",
       "      <td>2.5</td>\n",
       "      <td>5.0</td>\n",
       "      <td>1.9</td>\n",
       "      <td>2.0</td>\n",
       "      <td>virginica</td>\n",
       "    </tr>\n",
       "    <tr>\n",
       "      <th>147</th>\n",
       "      <td>6.5</td>\n",
       "      <td>3.0</td>\n",
       "      <td>5.2</td>\n",
       "      <td>2.0</td>\n",
       "      <td>2.0</td>\n",
       "      <td>virginica</td>\n",
       "    </tr>\n",
       "    <tr>\n",
       "      <th>148</th>\n",
       "      <td>6.2</td>\n",
       "      <td>3.4</td>\n",
       "      <td>5.4</td>\n",
       "      <td>2.3</td>\n",
       "      <td>2.0</td>\n",
       "      <td>virginica</td>\n",
       "    </tr>\n",
       "    <tr>\n",
       "      <th>149</th>\n",
       "      <td>5.9</td>\n",
       "      <td>3.0</td>\n",
       "      <td>5.1</td>\n",
       "      <td>1.8</td>\n",
       "      <td>2.0</td>\n",
       "      <td>virginica</td>\n",
       "    </tr>\n",
       "  </tbody>\n",
       "</table>\n",
       "<p>150 rows × 6 columns</p>\n",
       "</div>"
      ],
      "text/plain": [
       "     sepal length (cm)  sepal width (cm)  petal length (cm)  petal width (cm)  \\\n",
       "0                  5.1               3.5                1.4               0.2   \n",
       "1                  4.9               3.0                1.4               0.2   \n",
       "2                  4.7               3.2                1.3               0.2   \n",
       "3                  4.6               3.1                1.5               0.2   \n",
       "4                  5.0               3.6                1.4               0.2   \n",
       "..                 ...               ...                ...               ...   \n",
       "145                6.7               3.0                5.2               2.3   \n",
       "146                6.3               2.5                5.0               1.9   \n",
       "147                6.5               3.0                5.2               2.0   \n",
       "148                6.2               3.4                5.4               2.3   \n",
       "149                5.9               3.0                5.1               1.8   \n",
       "\n",
       "     target    species  \n",
       "0       0.0     setosa  \n",
       "1       0.0     setosa  \n",
       "2       0.0     setosa  \n",
       "3       0.0     setosa  \n",
       "4       0.0     setosa  \n",
       "..      ...        ...  \n",
       "145     2.0  virginica  \n",
       "146     2.0  virginica  \n",
       "147     2.0  virginica  \n",
       "148     2.0  virginica  \n",
       "149     2.0  virginica  \n",
       "\n",
       "[150 rows x 6 columns]"
      ]
     },
     "execution_count": 5,
     "metadata": {},
     "output_type": "execute_result"
    }
   ],
   "source": [
    "#Laeme sisse andmed irise datasetist\n",
    "import pandas as pd \n",
    "import numpy as np\n",
    "from sklearn.cluster import KMeans\n",
    "from sklearn.datasets import load_iris\n",
    "\n",
    "iris = load_iris()\n",
    "andmed= pd.DataFrame(data= np.c_[iris['data'], iris['target']],\n",
    "                 columns= iris['feature_names'] + ['target'])\n",
    "\n",
    "andmed['species'] = pd.Categorical.from_codes(iris.target, iris.target_names)\n",
    "andmed"
   ]
  },
  {
   "cell_type": "markdown",
   "metadata": {},
   "source": [
    "Meie lõppeesmärk on vaadata, et kas me saame andmete sepal_length, sepal_width, petal_length ja petal_with abil arvata, et kas tegemist on setosa (ehk target = 0), versicolor (ehk target = 1) või virginicaga (target = 2)."
   ]
  },
  {
   "cell_type": "markdown",
   "metadata": {},
   "source": [
    "## Ülesanne 1\n",
    "\n",
    "All on koostatud andmestik df, kus on kolm setosa iirist, kolm virginica iirist ning kolm versicolor iirist. \n",
    "\n",
    "Arvuta välja kõikide punktide vahelised kaugused kasutades eukleidilist kaugust (vt eelmist töölehte), võid andmed\n",
    "esitada nt listina või prindi lihtsalt välja. Hetkel jätame kõrvale petal_lengthi ja petal_widthi (ehk vaatame ainult sepal_lengthi ja sepal_widthi).\n",
    "\n",
    "Abiliseks on all toodud koodinäide, kuidas for tsükli abil info kätte saada."
   ]
  },
  {
   "cell_type": "code",
   "execution_count": 56,
   "metadata": {},
   "outputs": [
    {
     "name": "stdout",
     "output_type": "stream",
     "text": [
      "0.5385164807134502\n",
      "0.49999999999999944\n",
      "1.9235384061671348\n",
      "1.334166406412634\n",
      "1.8439088914585782\n",
      "2.6172504656604807\n",
      "2.8160255680657453\n",
      "2.6476404589747458\n",
      "0.2828427124746193\n",
      "2.1095023109728985\n",
      "1.5132745950421556\n",
      "2.0024984394500787\n",
      "2.9120439557122073\n",
      "3.1048349392520045\n",
      "2.8\n",
      "2.3\n",
      "1.7000000000000002\n",
      "2.202271554554524\n",
      "3.059411708155671\n",
      "3.2557641192199416\n",
      "3.006659275674582\n",
      "0.5999999999999996\n",
      "0.1414213562373093\n",
      "0.9219544457292886\n",
      "1.0816653826391969\n",
      "0.728010988928052\n",
      "0.5099019513592785\n",
      "1.431782106327635\n",
      "1.6155494421403511\n",
      "1.3152946437965904\n",
      "1.0630145812734646\n",
      "1.22065556157337\n",
      "0.8062257748298548\n",
      "0.20000000000000018\n",
      "0.7999999999999998\n",
      "0.824621125123532\n"
     ]
    },
    {
     "data": {
      "text/plain": [
       "'\\nimport numpy as np\\nfor index1, row1 in df.iterrows():\\n    for index2, row2 in df.iterrows():\\n        p1 = np.array(row1[[\"sepal length (cm)\",\"sepal width (cm)\"]])\\n        p2 = np.array(row2[[\"sepal length (cm)\",\"sepal width (cm)\"]])\\n        kaugus = sum((p1-p2)**2)**0.5\\n        print(p1,p2,kaugus)\\n\\n'"
      ]
     },
     "execution_count": 56,
     "metadata": {},
     "output_type": "execute_result"
    }
   ],
   "source": [
    "from math import dist\n",
    "import itertools\n",
    "\n",
    "ids = [0,1,2,50,51,52,131,135,117]\n",
    "df = andmed[andmed.index.isin(ids)]\n",
    "z = []\n",
    "for index1, row1 in df.iterrows():\n",
    "    #print(index1, row1)\n",
    "    p1 = list(row1[[\"sepal length (cm)\",\"sepal width (cm)\"]])\n",
    "    z.append(p1)\n",
    "\n",
    "combinations = list(itertools.combinations(z,2))\n",
    "for i in combinations:\n",
    "    print(dist(i[0],i[1]))\n",
    "\n",
    "\n",
    "\n",
    "#KUSTUTADA\n",
    "'''\n",
    "import numpy as np\n",
    "for index1, row1 in df.iterrows():\n",
    "    for index2, row2 in df.iterrows():\n",
    "        p1 = np.array(row1[[\"sepal length (cm)\",\"sepal width (cm)\"]])\n",
    "        p2 = np.array(row2[[\"sepal length (cm)\",\"sepal width (cm)\"]])\n",
    "        kaugus = sum((p1-p2)**2)**0.5\n",
    "        print(p1,p2,kaugus)\n",
    "\n",
    "'''"
   ]
  },
  {
   "cell_type": "markdown",
   "metadata": {},
   "source": [
    "## Ülesanne 2\n",
    "\n",
    "Koosta graafik, kus x-teljel on sepal length (cm) ja y-teljel sepal width (cm) ning värvina on eristatud iirise tüüp.\n",
    "\n",
    "Lisa graafikule pealkiri ning telgede nimed"
   ]
  },
  {
   "cell_type": "code",
   "execution_count": 61,
   "metadata": {},
   "outputs": [
    {
     "data": {
      "image/png": "[encoded data removed]",
      "text/plain": [
       "<Figure size 640x480 with 1 Axes>"
      ]
     },
     "metadata": {},
     "output_type": "display_data"
    }
   ],
   "source": [
    "import matplotlib.pyplot as plt\n",
    "X = df[\"sepal length (cm)\"]\n",
    "Y = df[\"sepal width (cm)\"]\n",
    "C = df[\"target\"]\n",
    "\n",
    "\n",
    "#kustutada\n",
    "\n",
    "plt.scatter(X,Y,c=C)\n",
    "plt.xlabel(\"Sepal length (cm)\")\n",
    "plt.ylabel(\"sepal width (cm)\")\n",
    "plt.title(\"Correlation between sepal length and width\")\n",
    "plt.show()\n"
   ]
  },
  {
   "cell_type": "markdown",
   "metadata": {},
   "source": [
    "## Ülesanne 3 \n",
    "\n",
    "Kasuta sama andmestikku, proovime ennustada sepal length, sepal widthi järgi iirise liiki.\n",
    "\n",
    "1) Vii läbi k-means clustering juhul kui k = 1, 2, 3, 4, ..7 (kasuta eelmise töölehe lõpus olevat koodi\n",
    "\n",
    "2) Tee iga tulemuse kohta graafik (nagu ülesandes 2), kus värv näitab ennustatud clustrite värvi (ehk kui k = 2, siis kahe värviga, kui k= 5, siis viie värviga jne). \n",
    "\n",
    "3) Analüüsi, milline oleks parim k-de arv.\n",
    "\n"
   ]
  },
  {
   "cell_type": "code",
   "execution_count": null,
   "metadata": {},
   "outputs": [],
   "source": [
    "from sklearn.cluster import KMeans, \n",
    "from sklearn.datasets import make_blobs\n",
    "\n",
    "X = andmed[['sepal length (cm)', 'sepal width (cm)']]\n",
    "kmeans = KMeans(n_clusters=3,max_iter=300, n_init=10, random_state=0)\n",
    "pred_y = kmeans.fit_predict(iris[\"data\"])\n",
    "silhouette_average = \n",
    "kmeans.fit(X)\n",
    "iris = load_iris()\n",
    "\n",
    "print(kmeans.labels_), print(list(andmed[\"target\"]))"
   ]
  },
  {
   "cell_type": "code",
   "execution_count": 55,
   "metadata": {},
   "outputs": [
    {
     "ename": "TypeError",
     "evalue": "len() takes exactly one argument (0 given)",
     "output_type": "error",
     "traceback": [
      "\u001b[0;31m---------------------------------------------------------------------------\u001b[0m",
      "\u001b[0;31mTypeError\u001b[0m                                 Traceback (most recent call last)",
      "Cell \u001b[0;32mIn[55], line 6\u001b[0m\n\u001b[1;32m      3\u001b[0m data \u001b[39m=\u001b[39m \u001b[39mlist\u001b[39m(\u001b[39mzip\u001b[39m(X, Y))\n\u001b[1;32m      4\u001b[0m inertias \u001b[39m=\u001b[39m []\n\u001b[0;32m----> 6\u001b[0m \u001b[39mfor\u001b[39;00m i \u001b[39min\u001b[39;00m \u001b[39mlen\u001b[39;49m():\n\u001b[1;32m      7\u001b[0m     kmeans \u001b[39m=\u001b[39m KMeans(n_clusters\u001b[39m=\u001b[39mi)\n\u001b[1;32m      8\u001b[0m     kmeans\u001b[39m.\u001b[39mfit(data)\n",
      "\u001b[0;31mTypeError\u001b[0m: len() takes exactly one argument (0 given)"
     ]
    }
   ],
   "source": [
    "from sklearn.cluster import KMeans\n",
    "\n",
    "data = list(zip(X, Y))\n",
    "inertias = []\n",
    "\n",
    "for i in len():\n",
    "    kmeans = KMeans(n_clusters=i)\n",
    "    kmeans.fit(data)\n",
    "    inertias.append(kmeans.inertia_)\n",
    "\n",
    "plt.plot(range(1,11), inertias, marker='o')\n",
    "plt.title('Elbow method')\n",
    "plt.xlabel('Number of clusters')\n",
    "plt.ylabel('Inertia')\n",
    "plt.show()\n",
    "\n",
    "#Kustutada\n"
   ]
  }
 ],
 "metadata": {
  "kernelspec": {
   "display_name": "Python 3 (ipykernel)",
   "language": "python",
   "name": "python3"
  },
  "language_info": {
   "codemirror_mode": {
    "name": "ipython",
    "version": 3
   },
   "file_extension": ".py",
   "mimetype": "text/x-python",
   "name": "python",
   "nbconvert_exporter": "python",
   "pygments_lexer": "ipython3",
   "version": "3.11.4"
  }
 },
 "nbformat": 4,
 "nbformat_minor": 4
}
