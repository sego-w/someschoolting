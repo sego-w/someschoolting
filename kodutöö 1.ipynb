{
 "cells": [
  {
   "cell_type": "markdown",
   "metadata": {},
   "source": [
    "# Kodutöö 1\n",
    "- Jupyter Notebooki kasutamine\n",
    "- Pakett Pandas tutvustus\n",
    "- Kuidas andmeid kätte saada"
   ]
  },
  {
   "cell_type": "markdown",
   "metadata": {},
   "source": [
    "## Jupyter notebook\n",
    "Jupyter notebookis (erinevalt varasematest rakendustest nagu IDLE ja Thonny) saame jooksutada mitut koodi järjest ning jätta meelde vanad muutujad.\n",
    "\n",
    "\n",
    "See tuleb kasuks siis, kui meie kood võtab palju aega või on lihtsalt mitmest etapist koosnev.\n"
   ]
  },
  {
   "cell_type": "code",
   "execution_count": 1,
   "metadata": {},
   "outputs": [
    {
     "data": {
      "text/plain": [
       "'Mari'"
      ]
     },
     "execution_count": 1,
     "metadata": {},
     "output_type": "execute_result"
    }
   ],
   "source": [
    "# Näide 1\n",
    "\n",
    "a = \"Mari\"\n",
    "\n",
    "a #Viimasel real olev muutuja prinditakse automaatselt välja ka ilma print käsuta\n"
   ]
  },
  {
   "cell_type": "code",
   "execution_count": 2,
   "metadata": {},
   "outputs": [
    {
     "name": "stdout",
     "output_type": "stream",
     "text": [
      "Tere, Mari\n"
     ]
    }
   ],
   "source": [
    "print(\"Tere,\",a) #Paneme tähele, et muutuja a on meil defineeritud eelnevas koodiblokis\n",
    "\n"
   ]
  },
  {
   "cell_type": "markdown",
   "metadata": {},
   "source": [
    "## Andmete kättesaamine Pandasega"
   ]
  },
  {
   "cell_type": "code",
   "execution_count": 4,
   "metadata": {},
   "outputs": [
    {
     "data": {
      "text/html": [
       "<div>\n",
       "<style scoped>\n",
       "    .dataframe tbody tr th:only-of-type {\n",
       "        vertical-align: middle;\n",
       "    }\n",
       "\n",
       "    .dataframe tbody tr th {\n",
       "        vertical-align: top;\n",
       "    }\n",
       "\n",
       "    .dataframe thead th {\n",
       "        text-align: right;\n",
       "    }\n",
       "</style>\n",
       "<table border=\"1\" class=\"dataframe\">\n",
       "  <thead>\n",
       "    <tr style=\"text-align: right;\">\n",
       "      <th></th>\n",
       "      <th>Gender</th>\n",
       "      <th>Length</th>\n",
       "      <th>Diameter</th>\n",
       "      <th>Height</th>\n",
       "      <th>Weight</th>\n",
       "      <th>Rings</th>\n",
       "    </tr>\n",
       "  </thead>\n",
       "  <tbody>\n",
       "    <tr>\n",
       "      <th>0</th>\n",
       "      <td>F</td>\n",
       "      <td>0.505</td>\n",
       "      <td>0.385</td>\n",
       "      <td>0.135</td>\n",
       "      <td>0.6185</td>\n",
       "      <td>12</td>\n",
       "    </tr>\n",
       "    <tr>\n",
       "      <th>1</th>\n",
       "      <td>F</td>\n",
       "      <td>0.650</td>\n",
       "      <td>0.475</td>\n",
       "      <td>0.165</td>\n",
       "      <td>1.3875</td>\n",
       "      <td>9</td>\n",
       "    </tr>\n",
       "    <tr>\n",
       "      <th>2</th>\n",
       "      <td>I</td>\n",
       "      <td>0.520</td>\n",
       "      <td>0.380</td>\n",
       "      <td>0.135</td>\n",
       "      <td>0.5395</td>\n",
       "      <td>8</td>\n",
       "    </tr>\n",
       "    <tr>\n",
       "      <th>3</th>\n",
       "      <td>F</td>\n",
       "      <td>0.550</td>\n",
       "      <td>0.425</td>\n",
       "      <td>0.140</td>\n",
       "      <td>0.9520</td>\n",
       "      <td>7</td>\n",
       "    </tr>\n",
       "    <tr>\n",
       "      <th>4</th>\n",
       "      <td>M</td>\n",
       "      <td>0.640</td>\n",
       "      <td>0.525</td>\n",
       "      <td>0.180</td>\n",
       "      <td>1.3135</td>\n",
       "      <td>10</td>\n",
       "    </tr>\n",
       "    <tr>\n",
       "      <th>...</th>\n",
       "      <td>...</td>\n",
       "      <td>...</td>\n",
       "      <td>...</td>\n",
       "      <td>...</td>\n",
       "      <td>...</td>\n",
       "      <td>...</td>\n",
       "    </tr>\n",
       "    <tr>\n",
       "      <th>995</th>\n",
       "      <td>I</td>\n",
       "      <td>0.550</td>\n",
       "      <td>0.415</td>\n",
       "      <td>0.135</td>\n",
       "      <td>0.8095</td>\n",
       "      <td>12</td>\n",
       "    </tr>\n",
       "    <tr>\n",
       "      <th>996</th>\n",
       "      <td>I</td>\n",
       "      <td>0.455</td>\n",
       "      <td>0.435</td>\n",
       "      <td>0.110</td>\n",
       "      <td>0.4265</td>\n",
       "      <td>8</td>\n",
       "    </tr>\n",
       "    <tr>\n",
       "      <th>997</th>\n",
       "      <td>M</td>\n",
       "      <td>0.660</td>\n",
       "      <td>0.500</td>\n",
       "      <td>0.165</td>\n",
       "      <td>1.3195</td>\n",
       "      <td>9</td>\n",
       "    </tr>\n",
       "    <tr>\n",
       "      <th>998</th>\n",
       "      <td>I</td>\n",
       "      <td>0.525</td>\n",
       "      <td>0.400</td>\n",
       "      <td>0.130</td>\n",
       "      <td>0.6455</td>\n",
       "      <td>8</td>\n",
       "    </tr>\n",
       "    <tr>\n",
       "      <th>999</th>\n",
       "      <td>M</td>\n",
       "      <td>0.515</td>\n",
       "      <td>0.395</td>\n",
       "      <td>0.135</td>\n",
       "      <td>1.0070</td>\n",
       "      <td>8</td>\n",
       "    </tr>\n",
       "  </tbody>\n",
       "</table>\n",
       "<p>1000 rows × 6 columns</p>\n",
       "</div>"
      ],
      "text/plain": [
       "    Gender  Length  Diameter  Height  Weight  Rings\n",
       "0        F   0.505     0.385   0.135  0.6185     12\n",
       "1        F   0.650     0.475   0.165  1.3875      9\n",
       "2        I   0.520     0.380   0.135  0.5395      8\n",
       "3        F   0.550     0.425   0.140  0.9520      7\n",
       "4        M   0.640     0.525   0.180  1.3135     10\n",
       "..     ...     ...       ...     ...     ...    ...\n",
       "995      I   0.550     0.415   0.135  0.8095     12\n",
       "996      I   0.455     0.435   0.110  0.4265      8\n",
       "997      M   0.660     0.500   0.165  1.3195      9\n",
       "998      I   0.525     0.400   0.130  0.6455      8\n",
       "999      M   0.515     0.395   0.135  1.0070      8\n",
       "\n",
       "[1000 rows x 6 columns]"
      ]
     },
     "execution_count": 4,
     "metadata": {},
     "output_type": "execute_result"
    }
   ],
   "source": [
    "import pandas as pd  #impordime mooduli\n",
    "\n",
    "andmed = pd.read_csv(\"abalone.csv\") #laeme alla andmed csv-st, mille nimi on abalone\n",
    "andmed"
   ]
  },
  {
   "cell_type": "markdown",
   "metadata": {},
   "source": [
    "Järgmiseks tutvume põhiliste pandas paketi käskudega. Selle jaoks on meil abiks järgmised lehed:\n",
    "https://pandas.pydata.org/Pandas_Cheat_Sheet.pdf\n",
    "https://s3.amazonaws.com/assets.datacamp.com/blog_assets/PandasPythonForDataScience.pdf\n",
    "\n",
    "Uurime käesolevat andmestiku. Alustame kõige olulisemast:\n",
    "1) Prindime välja päiste (columns) nimed\n",
    "2) Vaatame, mitu rida meil on andmestikus"
   ]
  },
  {
   "cell_type": "code",
   "execution_count": 5,
   "metadata": {},
   "outputs": [
    {
     "name": "stdout",
     "output_type": "stream",
     "text": [
      "Gender\n",
      "Length\n",
      "Diameter\n",
      "Height\n",
      "Weight\n",
      "Rings\n"
     ]
    }
   ],
   "source": [
    "# ÜLESANNE: prindi välja for-tsükliga columnite nimed\n",
    "for rida in andmed:\n",
    "    print(rida)\n",
    "\n"
   ]
  },
  {
   "cell_type": "code",
   "execution_count": 27,
   "metadata": {},
   "outputs": [
    {
     "name": "stdout",
     "output_type": "stream",
     "text": [
      "1000\n"
     ]
    }
   ],
   "source": [
    "# ÜLESANNE: kirjuta kood, mis prindib välja andmetabeli ridade arvu\n",
    "print(andmed.shape[0])"
   ]
  },
  {
   "cell_type": "code",
   "execution_count": 32,
   "metadata": {},
   "outputs": [
    {
     "name": "stdout",
     "output_type": "stream",
     "text": [
      "  Gender  Length  Diameter  Height  Weight  Rings\n",
      "0      F   0.505     0.385   0.135  0.6185     12\n",
      "1      F   0.650     0.475   0.165  1.3875      9\n",
      "2      I   0.520     0.380   0.135  0.5395      8\n",
      "3      F   0.550     0.425   0.140  0.9520      7\n",
      "4      M   0.640     0.525   0.180  1.3135     10\n",
      "5      I   0.520     0.380   0.125  0.5545      8\n"
     ]
    }
   ],
   "source": [
    "#Prindi välja 6 esimest rida. Milline on nende kuue esimese rea kirjete maksimaalne ringi diameeter?\n",
    "#(suurimat diameetrit võid vaadata silmaga ja kirjutada alla kommentaarina)\n",
    "\n",
    "print(andmed[0:6])\n",
    "#Suurim diameeter on 0.525 lol"
   ]
  },
  {
   "cell_type": "code",
   "execution_count": 54,
   "metadata": {},
   "outputs": [
    {
     "name": "stdout",
     "output_type": "stream",
     "text": [
      "    Gender  Length  Diameter  Height  Weight  Rings\n",
      "998      I   0.525     0.400   0.130  0.6455      8\n",
      "999      M   0.515     0.395   0.135  1.0070      8\n"
     ]
    }
   ],
   "source": [
    "#Prindi välja 2 viimast rida andmestikus.\n",
    "print(andmed[-2::])"
   ]
  },
  {
   "cell_type": "code",
   "execution_count": 65,
   "metadata": {},
   "outputs": [
    {
     "data": {
      "text/html": [
       "<div>\n",
       "<style scoped>\n",
       "    .dataframe tbody tr th:only-of-type {\n",
       "        vertical-align: middle;\n",
       "    }\n",
       "\n",
       "    .dataframe tbody tr th {\n",
       "        vertical-align: top;\n",
       "    }\n",
       "\n",
       "    .dataframe thead th {\n",
       "        text-align: right;\n",
       "    }\n",
       "</style>\n",
       "<table border=\"1\" class=\"dataframe\">\n",
       "  <thead>\n",
       "    <tr style=\"text-align: right;\">\n",
       "      <th></th>\n",
       "      <th>Length</th>\n",
       "    </tr>\n",
       "  </thead>\n",
       "  <tbody>\n",
       "    <tr>\n",
       "      <th>388</th>\n",
       "      <td>0.64</td>\n",
       "    </tr>\n",
       "  </tbody>\n",
       "</table>\n",
       "</div>"
      ],
      "text/plain": [
       "     Length\n",
       "388    0.64"
      ]
     },
     "execution_count": 65,
     "metadata": {},
     "output_type": "execute_result"
    }
   ],
   "source": [
    "# Mis on jõekarbi pikkus, mis asub real 388?\n",
    "andmed.iloc[[388],[1]]"
   ]
  },
  {
   "cell_type": "code",
   "execution_count": 92,
   "metadata": {},
   "outputs": [
    {
     "data": {
      "text/plain": [
       "11.318"
      ]
     },
     "execution_count": 92,
     "metadata": {},
     "output_type": "execute_result"
    }
   ],
   "source": [
    "#Mis on karbi keskmine ringide arv (kasuta käsku describe())\n",
    "andmed.describe()[\"Rings\"][\"mean\"]"
   ]
  },
  {
   "cell_type": "code",
   "execution_count": 104,
   "metadata": {},
   "outputs": [
    {
     "name": "stdout",
     "output_type": "stream",
     "text": [
      "241.0\n",
      "11.493775933609959\n"
     ]
    }
   ],
   "source": [
    "# Koosta alamandmestik, kus gender = \"F\" ja Diameter >=0.4. \n",
    "#Mitu sellist rida said? \n",
    "#Mis on nende karpide keskmi[ne pikkus?\n",
    "print(andmed[(andmed.Gender==\"F\")&(andmed.Diameter>=0.4)].describe()[\"Rings\"][\"count\"])\n",
    "print(andmed[(andmed.Gender==\"F\")&(andmed.Diameter>=0.4)].describe()[\"Rings\"][\"mean\"])\n",
    "\n",
    "\n",
    "\n"
   ]
  },
  {
   "cell_type": "code",
   "execution_count": null,
   "metadata": {},
   "outputs": [],
   "source": [
    "# Mis on minimaalne pikkus, kui ringide arv on 18?\n"
   ]
  },
  {
   "cell_type": "code",
   "execution_count": 109,
   "metadata": {},
   "outputs": [
    {
     "name": "stdout",
     "output_type": "stream",
     "text": [
      "Rings:  1 Weight:  0.002\n",
      "Rings:  3 Weight:  0.0245\n",
      "Rings:  4 Weight:  0.055\n",
      "Rings:  5 Weight:  0.1326\n",
      "Rings:  6 Weight:  0.2669\n",
      "Rings:  7 Weight:  0.4165\n",
      "Rings:  8 Weight:  0.6335\n",
      "Rings:  9 Weight:  0.8492\n",
      "Rings:  10 Weight:  1.0188\n",
      "Rings:  11 Weight:  1.1451\n",
      "Rings:  12 Weight:  1.0515\n",
      "Rings:  13 Weight:  1.0981\n",
      "Rings:  14 Weight:  1.2616\n",
      "Rings:  15 Weight:  1.0739\n",
      "Rings:  16 Weight:  1.1644\n",
      "Rings:  17 Weight:  1.2745\n",
      "Rings:  18 Weight:  1.0766\n",
      "Rings:  19 Weight:  1.0947\n",
      "Rings:  20 Weight:  1.1023\n",
      "Rings:  21 Weight:  1.676\n",
      "Rings:  22 Weight:  1.157\n",
      "Rings:  23 Weight:  1.0432\n",
      "Rings:  27 Weight:  1.2125\n",
      "Rings:  1500 Weight:  0.8025\n"
     ]
    }
   ],
   "source": [
    "#Prindi välja keskmine karpide kaal, mille ringide arv on võrdne kaheksaga. \n",
    "andmed[andmed[\"Rings\"]==8].describe()[\"Weight\"][\"mean\"]\n",
    "\n",
    "#Prindi välja keskmine karpide kaal IGA ringi puhul (kasuta for-tsüklit)\n",
    "#väljaprint peab olema ringide arvu järgi kasvav (alguses need karbid, mille ringidearv on 1, siis 2 jne)\n",
    "ringe = andmed[\"Rings\"].unique()\n",
    "ringe.sort()\n",
    "for x in ringe:\n",
    "    andmed2 = andmed[andmed[\"Rings\"]==x]\n",
    "    kaal = andmed2.describe()[\"Weight\"][\"mean\"]\n",
    "    print(\"Rings: \",x, \"Weight: \", round(kaal,4))\n",
    "    \n"
   ]
  },
  {
   "cell_type": "code",
   "execution_count": null,
   "metadata": {},
   "outputs": [],
   "source": [
    "#Vaata väljaprinti - kas karpide kaal sõltub ringide arvust?\n",
    "#Vastus:...."
   ]
  },
  {
   "cell_type": "code",
   "execution_count": 110,
   "metadata": {},
   "outputs": [
    {
     "ename": "ModuleNotFoundError",
     "evalue": "No module named 'matplotlib'",
     "output_type": "error",
     "traceback": [
      "\u001b[0;31m---------------------------------------------------------------------------\u001b[0m",
      "\u001b[0;31mModuleNotFoundError\u001b[0m                       Traceback (most recent call last)",
      "Cell \u001b[0;32mIn[110], line 2\u001b[0m\n\u001b[1;32m      1\u001b[0m \u001b[39m#LISAÜLESANNE: Tee graafik, kus x-teljel on karbi ringide arv ja y-teljel vastav keskmine kaal. \u001b[39;00m\n\u001b[0;32m----> 2\u001b[0m \u001b[39mimport\u001b[39;00m \u001b[39mmatplotlib\u001b[39;00m\u001b[39m.\u001b[39;00m\u001b[39mpyplot\u001b[39;00m \u001b[39mas\u001b[39;00m \u001b[39mplt\u001b[39;00m\n\u001b[1;32m      3\u001b[0m plt\u001b[39m.\u001b[39mplot(ringe[:\u001b[39m-\u001b[39m\u001b[39m2\u001b[39m],kaalud[:\u001b[39m-\u001b[39m\u001b[39m2\u001b[39m])\n",
      "\u001b[0;31mModuleNotFoundError\u001b[0m: No module named 'matplotlib'"
     ]
    }
   ],
   "source": [
    "#LISAÜLESANNE: Tee graafik, kus x-teljel on karbi ringide arv ja y-teljel vastav keskmine kaal. \n",
    "import matplotlib.pyplot as plt\n",
    "plt.plot(ringe[:-2],kaalud[:-2])\n"
   ]
  }
 ],
 "metadata": {
  "kernelspec": {
   "display_name": "Python 3 (ipykernel)",
   "language": "python",
   "name": "python3"
  },
  "language_info": {
   "codemirror_mode": {
    "name": "ipython",
    "version": 3
   },
   "file_extension": ".py",
   "mimetype": "text/x-python",
   "name": "python",
   "nbconvert_exporter": "python",
   "pygments_lexer": "ipython3",
   "version": "3.11.4"
  }
 },
 "nbformat": 4,
 "nbformat_minor": 4
}
